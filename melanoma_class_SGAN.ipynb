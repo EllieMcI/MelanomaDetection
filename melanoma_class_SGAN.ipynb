{
 "cells": [
  {
   "cell_type": "markdown",
   "metadata": {},
   "source": [
    "# Training the Semi-Supervised GAN for Melanoma Image Classification"
   ]
  },
  {
   "cell_type": "code",
   "execution_count": 2,
   "metadata": {},
   "outputs": [
    {
     "name": "stdout",
     "output_type": "stream",
     "text": [
      "cpu\n"
     ]
    }
   ],
   "source": [
    "import os\n",
    "import random\n",
    "import numpy as np\n",
    "import matplotlib.pyplot as plt\n",
    "\n",
    "import PIL\n",
    "import torchvision\n",
    "import torch\n",
    "import torch.nn as nn\n",
    "import torch.optim as optim\n",
    "import torch.nn.functional as F\n",
    "\n",
    "\n",
    "from os import listdir\n",
    "from os.path import join\n",
    "from torch.utils.data import Dataset, DataLoader\n",
    "from torchvision import transforms, utils\n",
    "from PIL import Image\n",
    "\n",
    "device = \"cpu\"\n",
    "if torch.cuda.is_available():\n",
    "    device = \"cuda\"\n",
    "\n",
    "print(device)"
   ]
  },
  {
   "cell_type": "code",
   "execution_count": 3,
   "metadata": {},
   "outputs": [],
   "source": [
    "#set path to data folders\n",
    "path = os.getcwd()\n",
    "parent = os.path.abspath(os.path.join(path, os.pardir))\n",
    "\n",
    "transform = transforms.ToTensor()"
   ]
  },
  {
   "cell_type": "markdown",
   "metadata": {},
   "source": [
    "## Setting up an Image Pipeline\n",
    "\n",
    "Preparing a data pipeline that handles the pre-processing and augmentation of the labele dataset. Dataset classes are custom classes inheriting from the abstract Pytorch class torch.utils.data.Dataset, overiding the `__len__` and `__getitem__` methods in order to be able toget the size of the dataset via `len(dataset)` and access each datasample as `dataset[index]`. If no transform specified, datasets returning images in the form of objects of type `PIL.PngImagePlugin.PngImageFile`. Turn the images into Pytorch tensors via the Dataset class transform argument."
   ]
  },
  {
   "cell_type": "markdown",
   "metadata": {},
   "source": [
    "### Unlabeled Data Set"
   ]
  },
  {
   "cell_type": "code",
   "execution_count": 4,
   "metadata": {},
   "outputs": [],
   "source": [
    "def is_image(filename):\n",
    "    return any(filename.endswith(extension) for extension in [\".jpg\", \".jpeg\", \".png\"])\n",
    "\n",
    "class UnlabeledDataset(Dataset):\n",
    "\n",
    "    def __init__(self, dir_path, transform=None):\n",
    "        \"\"\"\n",
    "        Args:\n",
    "            dir_path (string): Directory containing the images.\n",
    "            transform (optional): Transform to be applied on an image.\n",
    "        \"\"\"\n",
    "\n",
    "        self.transform = transform\n",
    "        \n",
    "        # The list of all the image file names (but not the images themselves!) will be read\n",
    "        # when the Dataset object is initialized\n",
    "        self.image_filenames = [join(dir_path, f) for f in listdir(dir_path) if is_image(f)]\n",
    "\n",
    "    def __len__(self):\n",
    "        return len(self.image_filenames)\n",
    "\n",
    "    def __getitem__(self, idx):\n",
    "\n",
    "        img_name = self.image_filenames[idx]\n",
    "        \n",
    "        # Here is where the image actually gets read:\n",
    "        image = Image.open(img_name)\n",
    "\n",
    "        if self.transform:\n",
    "            image = self.transform(image)\n",
    "\n",
    "        return image"
   ]
  },
  {
   "cell_type": "code",
   "execution_count": 5,
   "metadata": {},
   "outputs": [
    {
     "name": "stdout",
     "output_type": "stream",
     "text": [
      "Number of images in the unlabeled set:  7018\n"
     ]
    }
   ],
   "source": [
    "unlabeled_data_path = os.path.join(path, parent, 'Data/unlabeled/')\n",
    "unlabeled_set = UnlabeledDataset(dir_path= unlabeled_data_path, transform=transform)\n",
    "\n",
    "print('Number of images in the unlabeled set: ', len(unlabeled_set))"
   ]
  },
  {
   "cell_type": "markdown",
   "metadata": {},
   "source": [
    "### Labeled Data Set\n",
    "\n",
    "Benign images are named *\\_0.jpg*, whereas images of melanoma have filenames ending with *\\_1.jpg*. The __getitem__ method returns the image with a label. "
   ]
  },
  {
   "cell_type": "code",
   "execution_count": 6,
   "metadata": {},
   "outputs": [],
   "source": [
    "class LabeledDataset(Dataset):\n",
    "\n",
    "    def __init__(self, dir_path, transform=None):\n",
    "        \"\"\"\n",
    "        Args:\n",
    "            dir_path (string): Directory containing the images.\n",
    "            transform (optional): Optional transform to be applied\n",
    "                on an image.\n",
    "                \n",
    "            If not transform PIL.PngImagePlugin.PngImageFile    \n",
    "        \"\"\"\n",
    "\n",
    "        self.transform = transform\n",
    "        \n",
    "        # The list of all the image file names (but not the images themselves!) will be read\n",
    "        # when the Dataset object is initialized\n",
    "        self.image_filenames = [join(dir_path, f) for f in listdir(dir_path) if is_image(f)]\n",
    "\n",
    "    def __len__(self):\n",
    "        return len(self.image_filenames)\n",
    "\n",
    "    def __getitem__(self, idx):\n",
    "\n",
    "        img_name = self.image_filenames[idx]\n",
    "        \n",
    "        # Here is where the image actually gets read:\n",
    "        image = Image.open(img_name)\n",
    "\n",
    "        if self.transform:\n",
    "            image = self.transform(image)\n",
    "            \n",
    "        label = int(img_name[-5])\n",
    "\n",
    "        return image, label\n",
    "    "
   ]
  },
  {
   "cell_type": "code",
   "execution_count": 7,
   "metadata": {},
   "outputs": [
    {
     "name": "stdout",
     "output_type": "stream",
     "text": [
      "Number of images in the labeled set:  200\n"
     ]
    }
   ],
   "source": [
    "labeled_data_path = os.path.join(path, parent, 'Data/labeled/')\n",
    "labeled_set = LabeledDataset(dir_path= labeled_data_path, transform=transform)\n",
    "\n",
    "print('Number of images in the labeled set: ', len(labeled_set))\n",
    "\n",
    "test_data_path = os.path.join(path, parent, 'Data/test/')"
   ]
  },
  {
   "cell_type": "markdown",
   "metadata": {},
   "source": [
    "### DataLoaders\n",
    "\n",
    "`torch.utils.data.DataLoader` takes care of splitting the data into minibatches of a given size, shuffling it if needed, and loading it in parallel by using multiprocessing workers."
   ]
  },
  {
   "cell_type": "code",
   "execution_count": 13,
   "metadata": {},
   "outputs": [],
   "source": [
    "unlabeled_loader = DataLoader(unlabeled_set, \n",
    "                              batch_size=16, \n",
    "                              shuffle=True, \n",
    "                              num_workers=0)\n",
    "\n",
    "labeled_loader = DataLoader(labeled_set, \n",
    "                            batch_size=16, \n",
    "                            shuffle=True, \n",
    "                            num_workers=0)"
   ]
  },
  {
   "cell_type": "markdown",
   "metadata": {},
   "source": [
    "### Data Augmentation\n",
    "\n",
    "With the `torchvision.transforms` package transformations applied at random with a chosen probability, augment the unlabeled and labeled data sets making sure that the augmented dataset follows the same distribution as the original."
   ]
  },
  {
   "cell_type": "code",
   "execution_count": 8,
   "metadata": {},
   "outputs": [],
   "source": [
    "def get_norm_parameters(dataset): \n",
    "    \"\"\" Function computing the mean and std for each chanel across the dataset \n",
    "        after stacking the tensors of the dataset \"\"\"\n",
    "\n",
    "    if len(dataset[0]) > 2:    \n",
    "        imgs = torch.stack([img_tensor for img_tensor in dataset], dim=3)\n",
    "        \n",
    "    else: \n",
    "        imgs = torch.stack([img_tensor for img_tensor, _ in dataset], dim=3)\n",
    "\n",
    "    #keep the RBG channels and merge the rest of the dims, 3x32x32 is transformed into 3x1024 \n",
    "    mean = imgs.view(3, -1).mean(dim=1)\n",
    "    std  = imgs.view(3, -1).std(dim=1)\n",
    "    \n",
    "    return mean, std"
   ]
  },
  {
   "cell_type": "code",
   "execution_count": 9,
   "metadata": {},
   "outputs": [
    {
     "name": "stdout",
     "output_type": "stream",
     "text": [
      "unlabeled data set mean tensor([0.7722, 0.5286, 0.5501]) and std tensor([0.1399, 0.1602, 0.1772])\n",
      "labeled data set mean tensor([0.7441, 0.5331, 0.5548]) and std tensor([0.1464, 0.1557, 0.1735])\n"
     ]
    }
   ],
   "source": [
    "unlabeled_mean, unlabeled_std = get_norm_parameters(unlabeled_set)\n",
    "labeled_mean, labeled_std     = get_norm_parameters(labeled_set)\n",
    "\n",
    "print(\"unlabeled data set mean {} and std {}\".format(unlabeled_mean, unlabeled_std))\n",
    "print(\"labeled data set mean {} and std {}\".format(labeled_mean, labeled_std))\n",
    "\n",
    "#NB: The mean and std of the augmented data should be the same as the labeled!?"
   ]
  },
  {
   "cell_type": "code",
   "execution_count": 10,
   "metadata": {},
   "outputs": [],
   "source": [
    "#augment the labeled data by applying randomly a list of transformations with given probability\n",
    "augmentation = transforms.Compose([transforms.RandomHorizontalFlip(p=0.5),\n",
    "                                     transforms.RandomVerticalFlip(p=0.5),\n",
    "                                     transforms.RandomRotation(0,360)])\n",
    "                                    \n",
    "unlabeled_transform = transforms.Compose([transforms.ToTensor(),\n",
    "                                          transforms.Normalize(mean = unlabeled_mean,\n",
    "                                                               std = unlabeled_std)])                                   \n",
    "labeled_transform = transforms.Compose([transforms.ToTensor(),\n",
    "                                          transforms.Normalize(mean = labeled_mean,\n",
    "                                                               std = labeled_std)])                                      "
   ]
  },
  {
   "cell_type": "code",
   "execution_count": 11,
   "metadata": {},
   "outputs": [],
   "source": [
    "unlabeled_set = UnlabeledDataset(unlabeled_data_path, \n",
    "                                 transform=transforms.Compose([augmentation, unlabeled_transform]))\n",
    "labeled_set = LabeledDataset(labeled_data_path,     \n",
    "                             transform=transforms.Compose([augmentation, labeled_transform]))\n",
    "                             \n",
    "test_set = LabeledDataset(test_data_path,\n",
    "                          transform=transforms.Compose([transforms.ToTensor()]))                            "
   ]
  },
  {
   "cell_type": "code",
   "execution_count": 12,
   "metadata": {},
   "outputs": [],
   "source": [
    "batch_size = 64\n",
    "num_workers = 0\n",
    "\n",
    "unlabeled_loader = DataLoader(unlabeled_set, \n",
    "                              batch_size=batch_size, \n",
    "                              num_workers=num_workers,\n",
    "                              shuffle=True)\n",
    "\n",
    "labeled_loader = DataLoader(labeled_set, \n",
    "                            batch_size=batch_size, \n",
    "                            num_workers=num_workers,\n",
    "                            shuffle=True)\n",
    "\n",
    "test_loader = DataLoader(dataset = test_set,\n",
    "                         batch_size = batch_size,\n",
    "                         num_workers = num_workers,\n",
    "                         shuffle=True)"
   ]
  },
  {
   "cell_type": "markdown",
   "metadata": {},
   "source": [
    "## Analysis of semi-supervised learning strategy"
   ]
  },
  {
   "cell_type": "code",
   "execution_count": 81,
   "metadata": {},
   "outputs": [],
   "source": [
    "def convert_0_1(imgs, nc=3):\n",
    "    \n",
    "    imgs = imgs.view(imgs.size(0), -1)\n",
    "    imgs -= imgs.min(1, keepdim=True)[0]\n",
    "    imgs /= imgs.max(1, keepdim=True)[0]\n",
    "    imgs = imgs.view(batch_size, nc , 32, 32)\n",
    "    \n",
    "    return imgs"
   ]
  },
  {
   "cell_type": "code",
   "execution_count": 34,
   "metadata": {},
   "outputs": [],
   "source": [
    "# Number of channels of training images\n",
    "nc = 3\n",
    "\n",
    "# Latent vector dimensions  latent vector, i.e. size of generator input\n",
    "z_dim = 20\n",
    "\n",
    "# Size of feature maps in generator\n",
    "ngf = 64\n",
    "\n",
    "# Size of feature maps in discriminator\n",
    "ndf = 64\n",
    "\n",
    "# Learning rate for optimizers\n",
    "lr = 0.001\n",
    "\n",
    "# Beta1 hyperparam for Adam optimizers\n",
    "beta1 = 0.5\n",
    "\n",
    "\n",
    "# Establish convention for real and fake labels during training\n",
    "real_label = 1\n",
    "fake_label = 0\n",
    "\n",
    "# batch of latent vectors used to visualize the progression of the generator\n",
    "fixed_noise = torch.randn(batch_size, z_dim, 1, 1, device=device)\n",
    "\n",
    "num_epochs = 20"
   ]
  },
  {
   "cell_type": "code",
   "execution_count": 29,
   "metadata": {},
   "outputs": [],
   "source": [
    "def weights_init(m, mean=0.0, std=0.2):\n",
    "    \n",
    "    \"\"\" Randomly initialize the weights of the Generator and Discriminator\n",
    "        to normaly distributed with mean of 0 and std of 0.2 \"\"\"\n",
    "    \n",
    "    classname = m.__class__.__name__\n",
    "    \n",
    "    if classname.find('Conv') != -1:\n",
    "        nn.init.normal_(m.weight.data, mean, std)\n",
    "        \n",
    "    elif classname.find('BatchNorm') != -1:\n",
    "        nn.init.normal_(m.weight.data, 1.0, std)\n",
    "        nn.init.constant_(m.bias.data, 0)"
   ]
  },
  {
   "cell_type": "code",
   "execution_count": 19,
   "metadata": {},
   "outputs": [
    {
     "data": {
      "text/plain": [
       "'/Users/elliemcintosh/Documents/Python/ManningBooks_LiveProjects/MelanomaDetection/Code'"
      ]
     },
     "execution_count": 19,
     "metadata": {},
     "output_type": "execute_result"
    }
   ],
   "source": [
    "os.getcwd()"
   ]
  },
  {
   "cell_type": "code",
   "execution_count": 20,
   "metadata": {},
   "outputs": [],
   "source": [
    "def create_dir(directory):\n",
    "    \n",
    "    \"\"\"Creates a directory if it does not already exist.\"\"\"\n",
    "    if not os.path.exists(directory):\n",
    "        os.makedirs(directory)\n",
    "   "
   ]
  },
  {
   "cell_type": "code",
   "execution_count": 21,
   "metadata": {},
   "outputs": [],
   "source": [
    "data_root = os.path.join(path, parent, 'Data/')\n",
    "gener_img_dir = \"generated_Melanoma\"\n",
    "check_pt_dir = \"/models_wts/Melanoma_SGAN/\"\n",
    "\n",
    "create_dir(data_root + gener_img_dir)\n",
    "create_dir(path + check_pt_dir)"
   ]
  },
  {
   "cell_type": "code",
   "execution_count": 22,
   "metadata": {},
   "outputs": [],
   "source": [
    "def checkpoint(epoch, G, D, optimizerG, optimizerD, lossG, lossD):\n",
    "    \"\"\"\n",
    "    Saves the parameters of the generator G and discriminator D\n",
    "    and other checkpoints for finetuning, Adam optimizer has internal\n",
    "    parameters which would be reset to default values\n",
    "    \"\"\"\n",
    "    Melanoma_SGAN_path = os.getcwd() + check_pt_dir + 'SGAN.pkl'  \n",
    "    # serializes the object with python pickle\n",
    "    torch.save({\n",
    "            'epoch': epoch,\n",
    "            'G_state_dict': G.state_dict(),\n",
    "            'D_state_dict': D.state_dict(),\n",
    "            'optimizerG_state_dict': optimizerG.state_dict(), #\n",
    "            'optimizerD_state_dict': optimizerD.state_dict(),\n",
    "            'lossG': lossG,\n",
    "            'lossD': lossD\n",
    "            }, Melanoma_SGAN_path)\n",
    "    \n",
    "def load_checkpoint(model, check_pt_name):\n",
    "    # unpickling to deserialize the saved object with torch.load; \n",
    "    model.load_state_dict(torch.load(os.getcwd() + check_pt_dir + check_pt_name))"
   ]
  },
  {
   "cell_type": "code",
   "execution_count": 24,
   "metadata": {},
   "outputs": [],
   "source": [
    "best_model_path = os.path.join(os.getcwd() + check_pt_dir + \"best_discriminator_wts.pkl\")"
   ]
  },
  {
   "cell_type": "code",
   "execution_count": 64,
   "metadata": {},
   "outputs": [],
   "source": [
    "def binary_predict(x):\n",
    "    \n",
    "    \"\"\" Transoforms the 2 neurons output of the last fully\n",
    "        connected layer into a binary, real vs fake output\n",
    "        \n",
    "           D(x)= Z(x)/Z(x)+1 where Z(x)=Sum(exp[l(x)])\n",
    "           \n",
    "        where x is an input image, and l are the logits from \n",
    "        the final layer of the classifier. The sum over logits \n",
    "        goes from 1 to 2 (number of classes). The value of D(x)\n",
    "        is close to 1 when a strong prediction has been made for \n",
    "        one of the 2 (real) classes, and close to zero when the \n",
    "        2 logits' values are small.\"\"\"   \n",
    "    \n",
    "    # .sum(dim) Returns the sum of each row of the input tensor in the given dimension dim\n",
    "    # dim = -1 means the last dimension\n",
    "    Z = torch.exp(x).sum(dim = -1)\n",
    "    D = Z/(Z + 1.0)\n",
    "    \n",
    "    if torch.isnan(D).sum() > 0:\n",
    "        print(\"binary real vs fake prediction contains na: \", D)\n",
    "    \n",
    "    return D"
   ]
  },
  {
   "cell_type": "code",
   "execution_count": 65,
   "metadata": {},
   "outputs": [],
   "source": [
    "class Discriminator(nn.Module):\n",
    "    \n",
    "    \n",
    "    def __init__(self):\n",
    "        super(Discriminator, self).__init__()\n",
    "        \n",
    "        self.conv1 = nn.Conv2d(nc, ndf, kernel_size=2, stride=2, padding=2, bias=False)\n",
    "        self.conv2 = nn.Conv2d(ndf, ndf*2, kernel_size=4, stride=2, padding=1, bias=False)\n",
    "        self.batchn1 = nn.BatchNorm2d(ndf*2)\n",
    "        self.conv3 = nn.Conv2d(ndf*2, ndf*4, kernel_size=4, stride=2, padding=1, bias=False)\n",
    "        self.batchn2 = nn.BatchNorm2d(ndf*4)\n",
    "        self.conv4 = nn.Conv2d(ndf*4, ndf*2, kernel_size=4, stride=1, padding=0, bias=False)\n",
    "        \n",
    "        # fully connected layer with 2 output classes\n",
    "        self.fc1     = nn.Linear(ndf*2, 2, bias=True) \n",
    "        self.softmax = nn.Softmax(dim=1)\n",
    "        \n",
    "    def forward(self, input):\n",
    "        x = self.conv1(input)\n",
    "        x = F.leaky_relu(x, 0.2, inplace=True)\n",
    "        x = self.conv2(x)\n",
    "        x = self.batchn1(x)\n",
    "        x = F.leaky_relu(x, 0.2, inplace=True)\n",
    "        x = self.conv3(x)\n",
    "        x = self.batchn2(x)\n",
    "        x = F.leaky_relu(x, 0.2, inplace=True)\n",
    "        x = self.conv4(x)\n",
    "        x = x.view(-1, ndf*2)\n",
    "        \n",
    "        x = self.fc1(x)\n",
    "        \n",
    "        binary_out = binary_predict(x)\n",
    "        class_out  = self.softmax(x.squeeze())   \n",
    "        \n",
    "        return binary_out, class_out\n",
    "        "
   ]
  },
  {
   "cell_type": "code",
   "execution_count": 66,
   "metadata": {},
   "outputs": [
    {
     "data": {
      "text/plain": [
       "Discriminator(\n",
       "  (conv1): Conv2d(3, 64, kernel_size=(2, 2), stride=(2, 2), padding=(2, 2), bias=False)\n",
       "  (conv2): Conv2d(64, 128, kernel_size=(4, 4), stride=(2, 2), padding=(1, 1), bias=False)\n",
       "  (batchn1): BatchNorm2d(128, eps=1e-05, momentum=0.1, affine=True, track_running_stats=True)\n",
       "  (conv3): Conv2d(128, 256, kernel_size=(4, 4), stride=(2, 2), padding=(1, 1), bias=False)\n",
       "  (batchn2): BatchNorm2d(256, eps=1e-05, momentum=0.1, affine=True, track_running_stats=True)\n",
       "  (conv4): Conv2d(256, 128, kernel_size=(4, 4), stride=(1, 1), bias=False)\n",
       "  (fc1): Linear(in_features=128, out_features=2, bias=True)\n",
       "  (softmax): Softmax(dim=1)\n",
       ")"
      ]
     },
     "execution_count": 66,
     "metadata": {},
     "output_type": "execute_result"
    }
   ],
   "source": [
    "#create and initialize the generator and discriminator\n",
    "netG = Generator().to(device)\n",
    "netD = Discriminator().to(device)\n",
    "\n",
    "netG.apply(weights_init)\n",
    "netD.apply(weights_init)"
   ]
  },
  {
   "cell_type": "code",
   "execution_count": 70,
   "metadata": {},
   "outputs": [],
   "source": [
    "# Initialize the loss functions\n",
    "bce_loss = nn.BCELoss()\n",
    "cce_loss = nn.CrossEntropyLoss()"
   ]
  },
  {
   "cell_type": "code",
   "execution_count": 72,
   "metadata": {},
   "outputs": [
    {
     "name": "stdout",
     "output_type": "stream",
     "text": [
      "tensor(0.8397, grad_fn=<NllLossBackward>)\n"
     ]
    }
   ],
   "source": [
    "loss_supervised = cce_loss(labeled_class, labels)\n",
    "print(loss_supervised)"
   ]
  },
  {
   "cell_type": "code",
   "execution_count": 73,
   "metadata": {},
   "outputs": [],
   "source": [
    "#Set up Adam optimizers for the Generator and Discriminator\n",
    "optimizerG = optim.Adam(netG.parameters(), lr = lr, betas=(beta1, 0.999))\n",
    "optimizerD = optim.Adam(netD.parameters(), lr = lr, betas=(beta1, 0.999))"
   ]
  },
  {
   "cell_type": "code",
   "execution_count": 75,
   "metadata": {},
   "outputs": [],
   "source": [
    "def test(model, device, data_loader):\n",
    "    \n",
    "    \"\"\"Evaluates the model's performance on test dataset\"\"\"\n",
    "\n",
    "    test_loss = 0\n",
    "    correct = 0\n",
    "\n",
    "    test_acc = []\n",
    "\n",
    "    model.eval()\n",
    "    with torch.no_grad():\n",
    "        \n",
    "        for imgs, labels in data_loader:\n",
    "            \n",
    "            \n",
    "            binary_output, class_output = netD(imgs.to(device))\n",
    "        \n",
    "            test_loss += cce_loss(class_output, labels.to(device)).item()\n",
    "            \n",
    "            pred = class_output.argmax(dim=1, keepdim=True)\n",
    "            correct += pred.eq(labels.to(device).data.view_as(pred)).sum().item()\n",
    "\n",
    "    test_loss /= len(test_loader.dataset)\n",
    "\n",
    "    #print('\\nTest set: Average loss: {:.4f}, Accuracy: {}/{} ({:.0f}%)\\n'.format(test_loss, correct, len(data_loader.dataset), 100. * correct/len(data_loader.dataset)))\n",
    "           \n",
    "    #return test_loss, 100.*correct/len(data_loader.dataset)\n",
    "            \n",
    "    avg_loss = np.round(test_loss/len(data_loader.dataset), 4)\n",
    "    accuracy = 100. * correct/len(data_loader.dataset)  \n",
    "    \n",
    "    print(\"Test Avg Loss: {:.4f}, Discriminator Test Accuracy: {:.2f} %\".format(avg_loss, accuracy))\n",
    "        \n",
    "    return avg_loss, accuracy"
   ]
  },
  {
   "cell_type": "code",
   "execution_count": null,
   "metadata": {},
   "outputs": [],
   "source": [
    "num_epochs = 37\n",
    "num_iter = np.ceil(len(labeled_loader.dataset)/batch_size).astype(int)\n",
    "print_every = 3\n",
    "\n",
    "fixed_fake_imgs =[]\n",
    "\n",
    "# Lists to keep track of progress\n",
    "G_losses = []\n",
    "D_losses = []\n",
    "\n",
    "epoch_losses = []\n",
    "train_loss = []\n",
    "train_cntr = []\n",
    "\n",
    "test_losses =[]\n",
    "test_accuracies =[]\n",
    "\n",
    "fixed_fake_list = []\n",
    "\n",
    "best_model_wts = torch.save(netD.state_dict(), \"best_discriminator_wts\")\n",
    "best_acc = 0.0\n",
    "\n",
    "displ_imgs = batch_size\n",
    "\n",
    "for epoch in range(num_epochs):\n",
    "            \n",
    "    #for each iteration\n",
    "    for i in range(num_iter):\n",
    "        \n",
    "        real_labeled_imgs, real_class_labels = next(iter(labeled_loader))\n",
    "        \n",
    "        real_unlabeled_imgs = next(iter(unlabeled_loader))\n",
    "        num_imgs = real_labeled_imgs.size()[0]\n",
    "        \n",
    "        real_labeled_imgs.to(device)\n",
    "        real_class_labels.to(device)\n",
    "        \n",
    "        real_unlabeled_imgs.to(device)  \n",
    "        \n",
    "        # make binary labeles for the real unlabeled images and for the fake generated images               \n",
    "        real_binary_labels = torch.full((num_imgs,), real_label, dtype=torch.float, device = device)\n",
    "        fake_binary_labels = torch.full((num_imgs,), fake_label, dtype=torch.float, device = device)\n",
    "               \n",
    "        ###############################################################\n",
    "        #                                                             #\n",
    "        #                      Train the Discriminator                #\n",
    "        #                                                             #\n",
    "        ###############################################################\n",
    "        \n",
    "        netD.train()\n",
    "        optimizerD.zero_grad()\n",
    "            \n",
    "        ################### On Unlabeled Images #######################\n",
    "        # rescale input images from [0, 1] to [-1, 1]\n",
    "        real_unlabeled_imgs = real_unlabeled_imgs * 2 - 1\n",
    "        \n",
    "        binary_real, _ = netD(real_unlabeled_imgs)\n",
    "        \n",
    "        binary_real_loss = 0.5 * bce_loss(binary_real, real_binary_labels)\n",
    "        \n",
    "        binary_real_loss.backward()      \n",
    "        \n",
    "        ################### On Generated Images ####################### \n",
    "        \n",
    "        noise = torch.randn(num_imgs, z_dim, 1, 1, device=device)\n",
    "        \n",
    "        fake_imgs = netG(noise)\n",
    "        \n",
    "        binary_fake, _ = netD(fake_imgs.detach()) \n",
    "        \n",
    "        binary_fake_loss = 0.5 * bce_loss(binary_fake, fake_binary_labels)\n",
    "        \n",
    "        binary_fake_loss.backward()\n",
    "        \n",
    "        loss_unsupervised = binary_real_loss + binary_fake_loss\n",
    "                \n",
    "        ####################### On Labeled Images ######################\n",
    "        # rescale input images from [0, 1] to [-1, 1]\n",
    "        real_labeled_imgs = real_labeled_imgs * 2 - 1\n",
    "        \n",
    "        _, class_real  = netD(real_labeled_imgs)\n",
    "        \n",
    "        # supervised loss\n",
    "        loss_supervised = cce_loss(class_real, real_class_labels)\n",
    "        \n",
    "        train_loss.append(loss_supervised.item())\n",
    "        train_cntr.append((i+1)*num_imgs + epoch * len(labeled_loader.dataset))\n",
    "  \n",
    "        loss_supervised.backward() #retain_graph=True\n",
    "        \n",
    "        ###################### update Discriminator ####################\n",
    "\n",
    "        lossD = loss_supervised + loss_unsupervised\n",
    "        \n",
    "        train_loss.append(lossD.item())\n",
    "        train_cntr.append((i+1)*num_imgs + epoch * len(labeled_loader.dataset))\n",
    "  \n",
    "        #lossD.backward(retain_graph=True)\n",
    "        \n",
    "        optimizerD.step()\n",
    "        \n",
    "        ###############################################################\n",
    "        #                                                             #\n",
    "        #                      Train the Generator                    #\n",
    "        #                                                             #\n",
    "        ###############################################################\n",
    "        \n",
    "        netG.train()\n",
    "        optimizerG.zero_grad()\n",
    "        \n",
    "        binary_fake, _ = netD(fake_imgs)\n",
    "        \n",
    "        lossG = bce_loss(binary_fake, real_binary_labels)\n",
    "        \n",
    "        lossG.backward()\n",
    "        \n",
    "        optimizerG.step()      \n",
    "                \n",
    "        ###############################################################\n",
    "        #                                                             #\n",
    "        #                    Output training stats                    #\n",
    "        #                                                             #\n",
    "        ###############################################################\n",
    "        \n",
    "        # Calculate discriminator accuracy\n",
    "        pred_labels = np.concatenate([class_real.data.cpu().numpy(), ], axis=0)\n",
    "        ground_truth = np.concatenate([real_class_labels.data.cpu().numpy(), ], axis=0)\n",
    "        \n",
    "        # get the indices of the maximum values along the 2 class dim 1\n",
    "        D_acc = np.mean(np.argmax(pred_labels, axis=1) == ground_truth)\n",
    "        # print out training stats every chosen number of batches\n",
    "        if i % print_every == 0:\n",
    "            \n",
    "            print('\\nEpoch {}/{}  Batch {}/{}'.format(epoch +1, num_epochs, i, len(labeled_loader)))\n",
    "            print('-'*30)\n",
    "            print('Classifier Loss: {:.4f}, Generator Loss: {:.4f}, Training Accuracy: {:.1f} %'.format(loss_supervised.item(), lossG.item(), 100*D_acc))\n",
    "            print()\n",
    "            \n",
    "        # save losses for plotting\n",
    "        G_losses.append(lossG.item())\n",
    "        D_losses.append(lossD.item())   \n",
    "    \n",
    "    ############################ after each epoch  #########################\n",
    "    \n",
    "    #evaluate how the generator is doing\n",
    "    #netG.eval()\n",
    "    #with torch.no_grad():\n",
    "        #rescale from [-1, 1] back to [0, 1]\n",
    "        #fixed_fake = (netG(fixed_noise).detach().cpu()+1.0)/2.0\n",
    "        #image_grid = torchvision.utils.make_grid(convert_0_1(fixed_fake), nrow=16)\n",
    "        \n",
    "        #print(\"Epoch \", epoch +1)\n",
    "        #plt.figure(figsize=(20,10))\n",
    "        #plt.imshow(image_grid.permute(1, 2, 0))\n",
    "        #plt.axis(\"off\")\n",
    "        #plt.pause(0.05)\n",
    "        \n",
    "        #fixed_fake_list.append(torchvision.utils.make_grid(convert_0_1(fixed_fake.detach().cpu()), padding=2, normalize=True, nrow=16))\n",
    "        \n",
    "        #torchvision.utils.save_image(fixed_fake.data[:], \n",
    "                                     #data_root + gener_img_dir + \"/fixed_fake_%d.jpg\" % (epoch+1), \n",
    "                                     #nrow=16, normalize=True)\n",
    "    \n",
    "    #netG.train()\n",
    "    \n",
    "    # evaluate how the Discriminator is doing on training and testing datasets\n",
    "    epoch_losses.append(train_loss[-1])\n",
    "    \n",
    "    print(\"\\nEpoch: {}, Loss {:.4f}, Discriminator Avg Training Loss {:.4f}\".format(epoch+1, epoch_losses[-1], sum(epoch_losses)/len(epoch_losses)))\n",
    "    \n",
    "    test_loss, test_accuracy = test(netD, device, test_loader)\n",
    "    test_losses.append(test_loss)\n",
    "    test_accuracies.append(test_accuracy)\n",
    "    \n",
    "    if test_accuracy > best_acc:\n",
    "        best_acc = test_accuracy\n",
    "        best_discriminator_wts = torch.save(netD.state_dict(), os.getcwd() + check_pt_dir + \"best_discriminator_wts.pkl\")\n",
    "    \n",
    "    print(\"Discriminator best test accuracy {:.2f} %\".format(best_acc))\n",
    "        \n",
    "    checkpoint(epoch, netG, netD, optimizerG, optimizerD, G_losses, D_losses)\n",
    "               "
   ]
  },
  {
   "cell_type": "code",
   "execution_count": 77,
   "metadata": {
    "scrolled": true
   },
   "outputs": [
    {
     "data": {
      "text/plain": [
       "Text(0.5, 0, 'Iterations')"
      ]
     },
     "execution_count": 77,
     "metadata": {},
     "output_type": "execute_result"
    },
    {
     "data": {
      "image/png": "[encoded data removed]",
      "text/plain": [
       "<Figure size 432x288 with 1 Axes>"
      ]
     },
     "metadata": {
      "needs_background": "light"
     },
     "output_type": "display_data"
    }
   ],
   "source": [
    "# Plot Discriminator as a supervised classifier training performance\n",
    "plt.plot(train_cntr, train_loss, color='blue')\n",
    "plt.title(\"Supervised Classifier on 200 trainig samples\")\n",
    "plt.ylabel('Train loss')\n",
    "plt.xlabel('Iterations')"
   ]
  },
  {
   "cell_type": "code",
   "execution_count": null,
   "metadata": {},
   "outputs": [],
   "source": [
    "plt.plot(range(num_epochs), np.array(epoch_losses))\n",
    "plt.ylabel('Train loss')\n",
    "plt.xlabel('epochs')\n",
    "plt.title(\"Discriminator train and test performance\")\n",
    "plt.show()\n",
    "\n",
    "fig, ax1 = plt.subplots()\n",
    "\n",
    "color = 'tab:red'\n",
    "ax1.set_xlabel('epochs')\n",
    "ax1.set_ylabel('Test loss', color=color)\n",
    "ax1.plot(range(num_epochs), np.array(test_losses), color=color)\n",
    "ax1.tick_params(axis='y', labelcolor=color)\n",
    "\n",
    "ax2 = ax1.twinx() \n",
    "\n",
    "color = 'tab:blue'\n",
    "ax2.set_ylabel('Test accuracy', color=color)  \n",
    "ax2.plot(range(num_epochs), np.array(test_accuracies), color=color)\n",
    "ax2.tick_params(axis='y', labelcolor=color)\n",
    "\n",
    "fig.tight_layout()  \n",
    "plt.show()"
   ]
  },
  {
   "cell_type": "code",
   "execution_count": null,
   "metadata": {},
   "outputs": [],
   "source": [
    "# load best model weights\n",
    "netD.load_state_dict(torch.load(best_model_path))\n",
    "\n",
    "print(\"\\nBest model on the test set: \")\n",
    "test(netD, device, test_loader) "
   ]
  }
 ],
 "metadata": {
  "kernelspec": {
   "display_name": "Python 3",
   "language": "python",
   "name": "python3"
  },
  "language_info": {
   "codemirror_mode": {
    "name": "ipython",
    "version": 3
   },
   "file_extension": ".py",
   "mimetype": "text/x-python",
   "name": "python",
   "nbconvert_exporter": "python",
   "pygments_lexer": "ipython3",
   "version": "3.8.5"
  }
 },
 "nbformat": 4,
 "nbformat_minor": 4
}
