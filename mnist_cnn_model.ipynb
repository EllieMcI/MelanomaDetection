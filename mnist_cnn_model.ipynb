{
 "cells": [
  {
   "cell_type": "markdown",
   "metadata": {},
   "source": [
    "# Train Handwriten digits classifier using PyTorch"
   ]
  },
  {
   "cell_type": "code",
   "execution_count": 1,
   "metadata": {},
   "outputs": [],
   "source": [
    "import numpy as np\n",
    "import matplotlib.pyplot as plt\n",
    "\n",
    "import torch\n",
    "import torchvision\n",
    "\n",
    "from torch import nn, optim\n",
    "from torchvision import datasets, transforms\n",
    "\n",
    "from time import time"
   ]
  },
  {
   "cell_type": "code",
   "execution_count": 4,
   "metadata": {},
   "outputs": [
    {
     "name": "stdout",
     "output_type": "stream",
     "text": [
      "Training on device: cuda:0\n"
     ]
    }
   ],
   "source": [
    "# move data and computation to GPU if avilable\n",
    "device = torch.device(\"cuda:0\" if torch.cuda.is_available() else \"cpu\")\n",
    "print(\"Training on device:\", device)"
   ]
  },
  {
   "cell_type": "code",
   "execution_count": null,
   "metadata": {},
   "outputs": [],
   "source": [
    "from torch.utils.tensorboard import SummaryWriter\n",
    "\n",
    "#clear any logs from previous runs\n",
    "!rm -rf ./runs/mnist_cnn_model\n",
    "\n",
    "writer = SummaryWriter(log_dir='runs/mnist_cnn_model')"
   ]
  },
  {
   "cell_type": "code",
   "execution_count": 5,
   "metadata": {},
   "outputs": [],
   "source": [
    "# turn PIL image into a 3D Torch tensor and normalize the pixel values from [0, 255] to [0, 1]\n",
    "transform = transforms.Compose([transforms.ToTensor(),\n",
    "                              transforms.Normalize((0.5,), (0.5,)),\n",
    "                              ])"
   ]
  },
  {
   "cell_type": "code",
   "execution_count": 6,
   "metadata": {},
   "outputs": [],
   "source": [
    "# Dataset as a subclass of torch.utils.data.Dataset\n",
    "data_path = 'MNIST/processed/training.pt'\n",
    "\n",
    "batch_size = 64\n",
    "\n",
    "trainset = datasets.MNIST(root = data_path, download=True, train=True, transform=transform )\n",
    "valset   = datasets.MNIST(root = data_path, download=True, train=False, transform=transform )\n",
    "\n",
    "trainloader = torch.utils.data.DataLoader(dataset = trainset, batch_size=batch_size, shuffle=True)\n",
    "valloader   = torch.utils.data.DataLoader(dataset = valset, batch_size=batch_size, shuffle=True)"
   ]
  },
  {
   "cell_type": "markdown",
   "metadata": {},
   "source": [
    "## Understand the data"
   ]
  },
  {
   "cell_type": "code",
   "execution_count": 7,
   "metadata": {},
   "outputs": [
    {
     "name": "stdout",
     "output_type": "stream",
     "text": [
      "number of taining images: 60000\n",
      "number of validation images: 10000\n",
      "number of training images loaded per batch: 938\n",
      "number of validation images loaded per batch: 157\n"
     ]
    }
   ],
   "source": [
    "print(\"number of taining images:\", len(trainset))\n",
    "print(\"number of validation images:\", len(valset))\n",
    "print(\"number of training images loaded per batch:\", len(trainloader))\n",
    "print(\"number of validation images loaded per batch:\", len(valloader))"
   ]
  },
  {
   "cell_type": "code",
   "execution_count": 8,
   "metadata": {},
   "outputs": [],
   "source": [
    "# get training images\n",
    "dataiter = iter(trainloader)\n",
    "images, labels = dataiter.next()"
   ]
  },
  {
   "cell_type": "code",
   "execution_count": 9,
   "metadata": {},
   "outputs": [
    {
     "name": "stdout",
     "output_type": "stream",
     "text": [
      "image data dims: torch.Size([64, 1, 28, 28])\n",
      "image label dim: torch.Size([64])\n"
     ]
    }
   ],
   "source": [
    "print('image data dims:', images.shape)\n",
    "print('image label dim:', labels.shape)"
   ]
  },
  {
   "cell_type": "code",
   "execution_count": 10,
   "metadata": {},
   "outputs": [
    {
     "data": {
      "text/plain": [
       "<matplotlib.image.AxesImage at 0x7fcdd15e8070>"
      ]
     },
     "execution_count": 10,
     "metadata": {},
     "output_type": "execute_result"
    },
    {
     "data": {
      "image/png": "[encoded data removed]",
      "text/plain": [
       "<Figure size 432x288 with 1 Axes>"
      ]
     },
     "metadata": {
      "needs_background": "light"
     },
     "output_type": "display_data"
    }
   ],
   "source": [
    "# display an image\n",
    "plt.imshow(images[0].numpy().squeeze(), cmap='gray_r')"
   ]
  },
  {
   "cell_type": "code",
   "execution_count": 11,
   "metadata": {},
   "outputs": [
    {
     "data": {
      "image/png": "[encoded data removed]",
      "text/plain": [
       "<Figure size 432x288 with 1 Axes>"
      ]
     },
     "metadata": {
      "needs_background": "light"
     },
     "output_type": "display_data"
    },
    {
     "name": "stdout",
     "output_type": "stream",
     "text": [
      "    3     6     8     7     9     3     8     6\n"
     ]
    }
   ],
   "source": [
    "#to display few images at a time, need apply the interse transform\n",
    "def imshow(img):\n",
    "    img = img/2 + 0.5\n",
    "    np_img = img.numpy()\n",
    "    plt.imshow(np.transpose(np_img, (1, 2, 0)))\n",
    "    plt.show()\n",
    "\n",
    "num_images = 8    \n",
    "imshow(torchvision.utils.make_grid(images[0:num_images]))\n",
    "#display the image labels tensors as integer data type\n",
    "print(' '.join('%5s' % labels.numpy()[j] for j in range(num_images)))"
   ]
  },
  {
   "cell_type": "markdown",
   "metadata": {},
   "source": [
    "## Build the Neural Network"
   ]
  },
  {
   "cell_type": "code",
   "execution_count": 12,
   "metadata": {},
   "outputs": [
    {
     "name": "stdout",
     "output_type": "stream",
     "text": [
      "Sequential(\n",
      "  (0): Conv2d(1, 32, kernel_size=(5, 5), stride=(1, 1), padding=(2, 2))\n",
      "  (1): ReLU()\n",
      "  (2): MaxPool2d(kernel_size=2, stride=2, padding=0, dilation=1, ceil_mode=False)\n",
      "  (3): Conv2d(32, 32, kernel_size=(5, 5), stride=(1, 1), padding=(2, 2))\n",
      "  (4): ReLU()\n",
      "  (5): MaxPool2d(kernel_size=2, stride=2, padding=0, dilation=1, ceil_mode=False)\n",
      "  (6): Conv2d(32, 64, kernel_size=(5, 5), stride=(1, 1), padding=(2, 2))\n",
      "  (7): ReLU()\n",
      "  (8): MaxPool2d(kernel_size=2, stride=2, padding=0, dilation=1, ceil_mode=False)\n",
      "  (9): Flatten()\n",
      "  (10): Linear(in_features=576, out_features=256, bias=True)\n",
      "  (11): ReLU()\n",
      "  (12): Linear(in_features=256, out_features=10, bias=True)\n",
      "  (13): LogSoftmax(dim=1)\n",
      ")\n"
     ]
    }
   ],
   "source": [
    "class Flatten(nn.Module):\n",
    "    def forward(self, x):\n",
    "        #reshape the tensor into a tensor with num_chanels * image_hight_out * image_width_out\n",
    "        #columns and whatever number of rows stisfies that requirment \n",
    "        x = x.view(-1, 3*3*64)\n",
    "        return x\n",
    "\n",
    "\n",
    "model = nn.Sequential(nn.Conv2d(1, 32, kernel_size=5, stride=1, padding=2),\n",
    "                      nn.ReLU(),\n",
    "                      nn.MaxPool2d(kernel_size=2, stride=2),\n",
    "                      #nn.Dropout(0.5),\n",
    "                      nn.Conv2d(32, 32, kernel_size=5, stride=1, padding=2),\n",
    "                      nn.ReLU(),\n",
    "                      nn.MaxPool2d(kernel_size=2, stride=2),\n",
    "                      #nn.Dropout(0.5),\n",
    "                      nn.Conv2d(32, 64, kernel_size=5, stride=1, padding=2),\n",
    "                      nn.ReLU(),\n",
    "                      nn.MaxPool2d(kernel_size=2, stride=2),\n",
    "                      #nn.Dropout(0.5), \n",
    "                      Flatten(),\n",
    "                      nn.Linear(3*3*64, 256),\n",
    "                      nn.ReLU(),\n",
    "                      #nn.Dropout(0.5),\n",
    "                      nn.Linear(256, 10),\n",
    "                      nn.LogSoftmax(dim=1))\n",
    "\n",
    "# convert the parameters of all modules and buffers to CUDA tensor\n",
    "model.to(device)\n",
    "print(model)"
   ]
  },
  {
   "cell_type": "markdown",
   "metadata": {},
   "source": [
    "### Define Loss Function and Optimizer"
   ]
  },
  {
   "cell_type": "code",
   "execution_count": 13,
   "metadata": {},
   "outputs": [],
   "source": [
    "# Define the negative log-likelihood loss\n",
    "loss_func = nn.NLLLoss()\n",
    "optimizer = optim.SGD(model.parameters(), lr=0.001, momentum=0.9)"
   ]
  },
  {
   "cell_type": "markdown",
   "metadata": {},
   "source": [
    "## Train the model"
   ]
  },
  {
   "cell_type": "code",
   "execution_count": 14,
   "metadata": {},
   "outputs": [
    {
     "name": "stdout",
     "output_type": "stream",
     "text": [
      "Epoch: 0, Loss 0.4003\n",
      "Avg Trainig Loss: 0.40034303069114685\n",
      "Epoch: 1, Loss 0.0797\n",
      "Avg Trainig Loss: 0.24001209437847137\n",
      "Epoch: 2, Loss 0.0249\n",
      "Avg Trainig Loss: 0.168308200314641\n",
      "Epoch: 3, Loss 0.0462\n",
      "Avg Trainig Loss: 0.13778607873246074\n",
      "Epoch: 4, Loss 0.0647\n",
      "Avg Trainig Loss: 0.12316363416612149\n"
     ]
    }
   ],
   "source": [
    "train_counter = []\n",
    "train_loss = []\n",
    "epoch_loss = []\n",
    "\n",
    "epochs = 5\n",
    "\n",
    "for epoch in range(epochs):  # loop over the dataset multiple times\n",
    "\n",
    "    for batch_num, (images, labels) in enumerate(trainloader):\n",
    "\n",
    "        # move images and labels to device\n",
    "        images = images.to(device=device)\n",
    "        labels = labels.to(device=device)\n",
    "        \n",
    "        # zero the parameter gradients\n",
    "        optimizer.zero_grad()\n",
    "\n",
    "        # forward + backward + optimize weights\n",
    "        outputs = model(images)\n",
    "        loss = loss_func(outputs, labels)\n",
    "        loss.backward()\n",
    "        optimizer.step()\n",
    "\n",
    "        # print statistics\n",
    "        train_loss.append(loss.item())\n",
    "        train_counter.append((batch_num + 1)*images.shape[0] + epoch * len(trainset))\n",
    "\n",
    "    epoch_loss.append(train_loss[-1])\n",
    "    \n",
    "    writer.add_scalar('Train/Loss', epoch_loss[-1], epoch) #globsl_step = train_counter[-1]\n",
    "    writer.flush()\n",
    "        \n",
    "    print(\"Epoch: {}, Loss {}\".format(round(epoch, 4), round(epoch_loss[-1], 4)))\n",
    "    \n",
    "    print(\"Avg Trainig Loss: {}\".format(sum(epoch_loss)/len(epoch_loss)))"
   ]
  },
  {
   "cell_type": "markdown",
   "metadata": {},
   "source": [
    "## Evaluate the model"
   ]
  },
  {
   "cell_type": "code",
   "execution_count": 16,
   "metadata": {},
   "outputs": [
    {
     "name": "stdout",
     "output_type": "stream",
     "text": [
      "Number of images tested: 10000\n",
      "\n",
      " Model Accuracy: 98.31 %\n",
      "\n",
      "Average Validation loss: 0.05\n"
     ]
    }
   ],
   "source": [
    "correct = 0\n",
    "total = 0\n",
    "\n",
    "val_counter = []\n",
    "val_loss = []\n",
    "\n",
    "with torch.no_grad():\n",
    "    for images, labels in valloader:\n",
    "        \n",
    "        # move images and labels to device\n",
    "        images = images.to(device=device)\n",
    "        labels = labels.to(device=device)\n",
    "        \n",
    "        outputs = model(images)\n",
    "        _, predicted = torch.max(outputs, dim=1)\n",
    "        \n",
    "        loss = loss_func(outputs, labels)\n",
    "        \n",
    "        total += labels.shape[0]\n",
    "        correct += int((predicted ==labels).sum())\n",
    "        \n",
    "        val_loss.append(loss.item())\n",
    "        \n",
    "        # examine the performance of the model with the scalar metrics of loss, accuracy\n",
    "        writer.add_scalar('Validation/Loss', val_loss[-1], len(val_loss))\n",
    "        writer.add_scalar('Validation/Accuracy', val_accuracy, len(val_loss))\n",
    "        writer.flush()\n",
    "        \n",
    "print(\"Number of images tested:\", total)\n",
    "print(\"\\n Model Accuracy: {} %\".format(100*correct/total)) \n",
    "print(\"\\nAverage Validation loss: {}\".format(round(sum(val_loss)/len(val_loss), 2)))"
   ]
  },
  {
   "cell_type": "code",
   "execution_count": 17,
   "metadata": {},
   "outputs": [
    {
     "data": {
      "text/plain": [
       "[<matplotlib.lines.Line2D at 0x7fcdd0b58dc0>]"
      ]
     },
     "execution_count": 17,
     "metadata": {},
     "output_type": "execute_result"
    },
    {
     "data": {
      "image/png": "[encoded data removed]",
      "text/plain": [
       "<Figure size 432x288 with 1 Axes>"
      ]
     },
     "metadata": {
      "needs_background": "light"
     },
     "output_type": "display_data"
    }
   ],
   "source": [
    "# Plot model training performance\n",
    "plt.plot(train_counter, train_loss, color='blue')"
   ]
  },
  {
   "cell_type": "code",
   "execution_count": 18,
   "metadata": {},
   "outputs": [
    {
     "data": {
      "image/png": "[encoded data removed]",
      "text/plain": [
       "<Figure size 432x288 with 1 Axes>"
      ]
     },
     "metadata": {
      "needs_background": "light"
     },
     "output_type": "display_data"
    }
   ],
   "source": [
    "# Plot model validation performance\n",
    "plt.plot(val_loss, color='red')\n",
    "plt.xlabel('number of validation images')\n",
    "plt.ylabel('negative log likelihood loss')\n",
    "plt.show()"
   ]
  },
  {
   "cell_type": "code",
   "execution_count": 19,
   "metadata": {},
   "outputs": [
    {
     "name": "stdout",
     "output_type": "stream",
     "text": [
      "Epoch 1, Training Loss 0.047, Validation Loss 0.052, Validation Accuracy 0.981\n",
      "Epoch 1, Training Loss 0.043, Validation Loss 0.059, Validation Accuracy 0.978\n",
      "Epoch 1, Training Loss 0.074, Validation Loss 0.057, Validation Accuracy 0.977\n",
      "Epoch 1, Training Loss 0.075, Validation Loss 0.057, Validation Accuracy 0.983\n",
      "Epoch 1, Training Loss 0.083, Validation Loss 0.050, Validation Accuracy 0.983\n",
      "Epoch 1, Training Loss 0.067, Validation Loss 0.057, Validation Accuracy 0.981\n",
      "Epoch 1, Training Loss 0.070, Validation Loss 0.055, Validation Accuracy 0.984\n",
      "Epoch 1, Training Loss 0.068, Validation Loss 0.054, Validation Accuracy 0.984\n",
      "Epoch 1, Training Loss 0.058, Validation Loss 0.052, Validation Accuracy 0.983\n",
      "Epoch 1, Training Loss 0.045, Validation Loss 0.054, Validation Accuracy 0.982\n",
      "Epoch 1, Training Loss 0.035, Validation Loss 0.056, Validation Accuracy 0.982\n",
      "Epoch 1, Training Loss 0.054, Validation Loss 0.056, Validation Accuracy 0.983\n",
      "Epoch 1, Training Loss 0.036, Validation Loss 0.059, Validation Accuracy 0.979\n",
      "Epoch 1, Training Loss 0.067, Validation Loss 0.060, Validation Accuracy 0.980\n",
      "Epoch 1, Training Loss 0.088, Validation Loss 0.054, Validation Accuracy 0.982\n",
      "Epoch 1, Training Loss 0.048, Validation Loss 0.057, Validation Accuracy 0.981\n",
      "Epoch 1, Training Loss 0.074, Validation Loss 0.057, Validation Accuracy 0.980\n",
      "Epoch 1, Training Loss 0.064, Validation Loss 0.057, Validation Accuracy 0.983\n",
      "Epoch 1, Training Loss 0.058, Validation Loss 0.055, Validation Accuracy 0.983\n",
      "Epoch 1, Training Loss 0.057, Validation Loss 0.052, Validation Accuracy 0.982\n",
      "Epoch 1, Training Loss 0.057, Validation Loss 0.051, Validation Accuracy 0.982\n",
      "Epoch 1, Training Loss 0.041, Validation Loss 0.051, Validation Accuracy 0.984\n",
      "Epoch 1, Training Loss 0.087, Validation Loss 0.049, Validation Accuracy 0.982\n",
      "Epoch 1, Training Loss 0.050, Validation Loss 0.055, Validation Accuracy 0.981\n",
      "Epoch 1, Training Loss 0.065, Validation Loss 0.055, Validation Accuracy 0.982\n",
      "Epoch 1, Training Loss 0.078, Validation Loss 0.054, Validation Accuracy 0.984\n",
      "Epoch 1, Training Loss 0.059, Validation Loss 0.052, Validation Accuracy 0.983\n",
      "Epoch 1, Training Loss 0.056, Validation Loss 0.055, Validation Accuracy 0.985\n",
      "Epoch 1, Training Loss 0.066, Validation Loss 0.051, Validation Accuracy 0.983\n",
      "Epoch 1, Training Loss 0.063, Validation Loss 0.054, Validation Accuracy 0.980\n",
      "Epoch 1, Training Loss 0.065, Validation Loss 0.054, Validation Accuracy 0.982\n",
      "Epoch 1, Training Loss 0.057, Validation Loss 0.054, Validation Accuracy 0.982\n",
      "Epoch 1, Training Loss 0.074, Validation Loss 0.049, Validation Accuracy 0.983\n",
      "Epoch 1, Training Loss 0.041, Validation Loss 0.050, Validation Accuracy 0.982\n",
      "Epoch 1, Training Loss 0.049, Validation Loss 0.050, Validation Accuracy 0.985\n",
      "Epoch 1, Training Loss 0.076, Validation Loss 0.058, Validation Accuracy 0.982\n",
      "Epoch 1, Training Loss 0.118, Validation Loss 0.054, Validation Accuracy 0.980\n",
      "Epoch 1, Training Loss 0.040, Validation Loss 0.051, Validation Accuracy 0.985\n",
      "Epoch 1, Training Loss 0.054, Validation Loss 0.058, Validation Accuracy 0.980\n",
      "Epoch 1, Training Loss 0.063, Validation Loss 0.053, Validation Accuracy 0.983\n",
      "Epoch 1, Training Loss 0.045, Validation Loss 0.055, Validation Accuracy 0.985\n",
      "Epoch 1, Training Loss 0.065, Validation Loss 0.054, Validation Accuracy 0.982\n",
      "Epoch 1, Training Loss 0.092, Validation Loss 0.051, Validation Accuracy 0.982\n",
      "Epoch 1, Training Loss 0.072, Validation Loss 0.062, Validation Accuracy 0.983\n",
      "Epoch 1, Training Loss 0.065, Validation Loss 0.050, Validation Accuracy 0.984\n",
      "Epoch 1, Training Loss 0.048, Validation Loss 0.051, Validation Accuracy 0.982\n",
      "Epoch 1, Training Loss 0.040, Validation Loss 0.053, Validation Accuracy 0.979\n",
      "Epoch 1, Training Loss 0.073, Validation Loss 0.058, Validation Accuracy 0.983\n",
      "Epoch 1, Training Loss 0.050, Validation Loss 0.053, Validation Accuracy 0.982\n",
      "Epoch 1, Training Loss 0.073, Validation Loss 0.057, Validation Accuracy 0.980\n",
      "Epoch 1, Training Loss 0.052, Validation Loss 0.050, Validation Accuracy 0.983\n",
      "Epoch 1, Training Loss 0.048, Validation Loss 0.053, Validation Accuracy 0.982\n",
      "Epoch 1, Training Loss 0.056, Validation Loss 0.059, Validation Accuracy 0.982\n",
      "Epoch 1, Training Loss 0.064, Validation Loss 0.049, Validation Accuracy 0.984\n",
      "Epoch 1, Training Loss 0.036, Validation Loss 0.051, Validation Accuracy 0.982\n",
      "Epoch 1, Training Loss 0.052, Validation Loss 0.053, Validation Accuracy 0.983\n",
      "Epoch 1, Training Loss 0.056, Validation Loss 0.055, Validation Accuracy 0.976\n",
      "Epoch 1, Training Loss 0.060, Validation Loss 0.049, Validation Accuracy 0.985\n",
      "Epoch 1, Training Loss 0.054, Validation Loss 0.054, Validation Accuracy 0.983\n",
      "Epoch 1, Training Loss 0.038, Validation Loss 0.051, Validation Accuracy 0.981\n",
      "Epoch 1, Training Loss 0.058, Validation Loss 0.056, Validation Accuracy 0.981\n",
      "Epoch 1, Training Loss 0.068, Validation Loss 0.053, Validation Accuracy 0.984\n",
      "Epoch 1, Training Loss 0.053, Validation Loss 0.053, Validation Accuracy 0.984\n",
      "Epoch 1, Training Loss 0.073, Validation Loss 0.053, Validation Accuracy 0.981\n",
      "Epoch 1, Training Loss 0.065, Validation Loss 0.050, Validation Accuracy 0.984\n",
      "Epoch 1, Training Loss 0.033, Validation Loss 0.046, Validation Accuracy 0.984\n",
      "Epoch 1, Training Loss 0.067, Validation Loss 0.053, Validation Accuracy 0.985\n",
      "Epoch 1, Training Loss 0.079, Validation Loss 0.051, Validation Accuracy 0.982\n",
      "Epoch 1, Training Loss 0.041, Validation Loss 0.051, Validation Accuracy 0.983\n",
      "Epoch 1, Training Loss 0.056, Validation Loss 0.056, Validation Accuracy 0.984\n",
      "Epoch 1, Training Loss 0.068, Validation Loss 0.047, Validation Accuracy 0.983\n",
      "Epoch 1, Training Loss 0.073, Validation Loss 0.053, Validation Accuracy 0.984\n",
      "Epoch 1, Training Loss 0.051, Validation Loss 0.053, Validation Accuracy 0.980\n",
      "Epoch 1, Training Loss 0.079, Validation Loss 0.050, Validation Accuracy 0.983\n",
      "Epoch 1, Training Loss 0.062, Validation Loss 0.059, Validation Accuracy 0.981\n",
      "Epoch 1, Training Loss 0.084, Validation Loss 0.047, Validation Accuracy 0.984\n",
      "Epoch 1, Training Loss 0.064, Validation Loss 0.049, Validation Accuracy 0.984\n",
      "Epoch 1, Training Loss 0.060, Validation Loss 0.050, Validation Accuracy 0.985\n",
      "Epoch 1, Training Loss 0.070, Validation Loss 0.047, Validation Accuracy 0.983\n",
      "Epoch 1, Training Loss 0.054, Validation Loss 0.048, Validation Accuracy 0.984\n",
      "Epoch 1, Training Loss 0.059, Validation Loss 0.052, Validation Accuracy 0.984\n",
      "Epoch 1, Training Loss 0.040, Validation Loss 0.052, Validation Accuracy 0.980\n",
      "Epoch 1, Training Loss 0.066, Validation Loss 0.050, Validation Accuracy 0.986\n",
      "Epoch 1, Training Loss 0.088, Validation Loss 0.049, Validation Accuracy 0.987\n",
      "Epoch 1, Training Loss 0.059, Validation Loss 0.047, Validation Accuracy 0.984\n",
      "Epoch 1, Training Loss 0.044, Validation Loss 0.049, Validation Accuracy 0.986\n",
      "Epoch 1, Training Loss 0.051, Validation Loss 0.052, Validation Accuracy 0.982\n",
      "Epoch 1, Training Loss 0.060, Validation Loss 0.050, Validation Accuracy 0.982\n",
      "Epoch 1, Training Loss 0.063, Validation Loss 0.050, Validation Accuracy 0.983\n",
      "Epoch 1, Training Loss 0.052, Validation Loss 0.050, Validation Accuracy 0.985\n",
      "Epoch 1, Training Loss 0.060, Validation Loss 0.055, Validation Accuracy 0.981\n",
      "Epoch 1, Training Loss 0.059, Validation Loss 0.052, Validation Accuracy 0.982\n",
      "Epoch 1, Training Loss 0.042, Validation Loss 0.049, Validation Accuracy 0.986\n"
     ]
    }
   ],
   "source": [
    "epochs = 1\n",
    "steps = 0\n",
    "running_loss = 0\n",
    "print_every = 10\n",
    "\n",
    "train_losses = []\n",
    "val_losses = []\n",
    "\n",
    "for epoch in range(epochs):  \n",
    "\n",
    "    for images, labels in trainloader:\n",
    "        \n",
    "        # zero the parameter gradients\n",
    "        steps += 1\n",
    "        images, labels = images.to(device), labels.to(device)\n",
    "        \n",
    "        optimizer.zero_grad()\n",
    "        outputs = model.forward(images)\n",
    "        loss = loss_func(outputs, labels)\n",
    "        loss.backward()\n",
    "        optimizer.step()\n",
    "        running_loss += loss.item()\n",
    "        \n",
    "        if steps % print_every == 0:\n",
    "            val_loss = 0\n",
    "            accuracy = 0\n",
    "            model.eval()\n",
    "            \n",
    "            correct = 0\n",
    "            total = 0\n",
    "            \n",
    "            with torch.no_grad():\n",
    "                for images, labels in valloader:\n",
    "                    \n",
    "                    images, labels = images.to(device), labels.to(device)\n",
    "                    outputs = model(images)\n",
    "                    _, predicted = torch.max(outputs, dim=1)\n",
    "                    batch_loss = loss_func(outputs, labels)\n",
    "                    total += labels.shape[0]\n",
    "                    correct += int((predicted ==labels).sum())\n",
    "                    val_loss += batch_loss.item()\n",
    "                    accuracy += correct/total\n",
    "                    \n",
    "        \n",
    "            loss = loss_func(outputs, labels)\n",
    "        \n",
    "            total += labels.shape[0]\n",
    "            correct += int((predicted ==labels).sum())\n",
    "            \n",
    "            train_losses.append(running_loss/len(valloader))\n",
    "            val_losses.append(val_loss/len(valloader))  \n",
    "                \n",
    "            print(\"Epoch {}, Training Loss {:.3f}, Validation Loss {:.3f}, Validation Accuracy {:.3f}\".\n",
    "                  format(epoch+1, running_loss/print_every, val_loss/len(valloader), accuracy/len(valloader))) \n",
    "                  \n",
    "                  \n",
    "            running_loss = 0\n",
    "            model.train()"
   ]
  },
  {
   "cell_type": "code",
   "execution_count": 20,
   "metadata": {},
   "outputs": [
    {
     "data": {
      "image/png": "[encoded data removed]",
      "text/plain": [
       "<Figure size 432x288 with 1 Axes>"
      ]
     },
     "metadata": {
      "needs_background": "light"
     },
     "output_type": "display_data"
    }
   ],
   "source": [
    "plt.plot(train_losses, label='Training loss')\n",
    "plt.plot(val_losses, label='Validation loss')\n",
    "plt.legend(frameon=False)\n",
    "plt.show()"
   ]
  },
  {
   "cell_type": "markdown",
   "metadata": {},
   "source": [
    "## Save the model for predictions"
   ]
  },
  {
   "cell_type": "code",
   "execution_count": 26,
   "metadata": {},
   "outputs": [
    {
     "data": {
      "text/plain": [
       "<All keys matched successfully>"
      ]
     },
     "execution_count": 26,
     "metadata": {},
     "output_type": "execute_result"
    }
   ],
   "source": [
    "#save the model on GPU\n",
    "torch.save(model.state_dict(), 'mnist_cnn_classifier.pth')\n",
    "\n",
    "#load the model on GPU, with PyTorch overiding the device information when loading weights\n",
    "#with map_location argument\n",
    "device = torch.device(\"cuda:0\")\n",
    "loaded_model = model.to(device)\n",
    "loaded_model.load_state_dict(torch.load('mnist_cnn_classifier.pth', map_location=device))"
   ]
  },
  {
   "cell_type": "markdown",
   "metadata": {},
   "source": [
    "## Use trained model for predictions"
   ]
  },
  {
   "cell_type": "code",
   "execution_count": 39,
   "metadata": {},
   "outputs": [],
   "source": [
    "def classify(images, num_imgs):\n",
    "    \n",
    "    \"\"\" A function that predicts the class of a image in Pillow format.\"\"\"\n",
    "    \n",
    "    with torch.no_grad():\n",
    "        \n",
    "        outputs = loaded_model(images)\n",
    "        _, predicted = torch.max(outputs, dim=1)\n",
    "        \n",
    "        ps = torch.exp(outputs) # model output probabilities  as tensor\n",
    "        # deal with numpy at the cpu\n",
    "        proba = list(ps.cpu().numpy())\n",
    "        #proba = list(ps.numpy()) # list of arrays\n",
    "        \n",
    "        pred_digits = []\n",
    "        for i in range(len(proba)):\n",
    "            \n",
    "            pred_digits.append(proba[i].argmax())\n",
    "        \n",
    "        imshow(torchvision.utils.make_grid(images[0:num_imgs]))\n",
    "        print(' '.join('%5s' % pred_digits[j] for j in range(num_imgs)))\n",
    "        \n",
    "    \n",
    "    #return pred_digits"
   ]
  },
  {
   "cell_type": "code",
   "execution_count": 38,
   "metadata": {},
   "outputs": [],
   "source": [
    "# get a random batch of validation images \n",
    "rand_sampler = torch.utils.data.RandomSampler(valset, num_samples=batch_size, replacement=True)\n",
    "val_sampler = torch.utils.data.DataLoader(valset, batch_size=batch_size, sampler=rand_sampler)\n",
    "\n",
    "dataiter = iter(val_sampler)\n",
    "\n",
    "rand_batch_images, labels = dataiter.next()\n",
    "\n",
    "rand_batch_images, labels = rand_batch_images.to(device), labels.to(device)"
   ]
  },
  {
   "cell_type": "code",
   "execution_count": 40,
   "metadata": {},
   "outputs": [
    {
     "ename": "TypeError",
     "evalue": "can't convert cuda:0 device type tensor to numpy. Use Tensor.cpu() to copy the tensor to host memory first.",
     "output_type": "error",
     "traceback": [
      "\u001b[0;31m---------------------------------------------------------------------------\u001b[0m",
      "\u001b[0;31mTypeError\u001b[0m                                 Traceback (most recent call last)",
      "\u001b[0;32m<ipython-input-40-24fad699f35f>\u001b[0m in \u001b[0;36m<module>\u001b[0;34m\u001b[0m\n\u001b[0;32m----> 1\u001b[0;31m \u001b[0mclassify\u001b[0m\u001b[0;34m(\u001b[0m\u001b[0mrand_batch_images\u001b[0m\u001b[0;34m,\u001b[0m \u001b[0mnum_imgs\u001b[0m\u001b[0;34m=\u001b[0m\u001b[0;36m5\u001b[0m\u001b[0;34m)\u001b[0m\u001b[0;34m\u001b[0m\u001b[0;34m\u001b[0m\u001b[0m\n\u001b[0m",
      "\u001b[0;32m<ipython-input-39-7e2a356021f5>\u001b[0m in \u001b[0;36mclassify\u001b[0;34m(images, num_imgs)\u001b[0m\n\u001b[1;32m     18\u001b[0m             \u001b[0mpred_digits\u001b[0m\u001b[0;34m.\u001b[0m\u001b[0mappend\u001b[0m\u001b[0;34m(\u001b[0m\u001b[0mproba\u001b[0m\u001b[0;34m[\u001b[0m\u001b[0mi\u001b[0m\u001b[0;34m]\u001b[0m\u001b[0;34m.\u001b[0m\u001b[0margmax\u001b[0m\u001b[0;34m(\u001b[0m\u001b[0;34m)\u001b[0m\u001b[0;34m)\u001b[0m\u001b[0;34m\u001b[0m\u001b[0;34m\u001b[0m\u001b[0m\n\u001b[1;32m     19\u001b[0m \u001b[0;34m\u001b[0m\u001b[0m\n\u001b[0;32m---> 20\u001b[0;31m         \u001b[0mimshow\u001b[0m\u001b[0;34m(\u001b[0m\u001b[0mtorchvision\u001b[0m\u001b[0;34m.\u001b[0m\u001b[0mutils\u001b[0m\u001b[0;34m.\u001b[0m\u001b[0mmake_grid\u001b[0m\u001b[0;34m(\u001b[0m\u001b[0mimages\u001b[0m\u001b[0;34m[\u001b[0m\u001b[0;36m0\u001b[0m\u001b[0;34m:\u001b[0m\u001b[0mnum_imgs\u001b[0m\u001b[0;34m]\u001b[0m\u001b[0;34m)\u001b[0m\u001b[0;34m)\u001b[0m\u001b[0;34m\u001b[0m\u001b[0;34m\u001b[0m\u001b[0m\n\u001b[0m\u001b[1;32m     21\u001b[0m         \u001b[0mprint\u001b[0m\u001b[0;34m(\u001b[0m\u001b[0;34m' '\u001b[0m\u001b[0;34m.\u001b[0m\u001b[0mjoin\u001b[0m\u001b[0;34m(\u001b[0m\u001b[0;34m'%5s'\u001b[0m \u001b[0;34m%\u001b[0m \u001b[0mpred_digits\u001b[0m\u001b[0;34m[\u001b[0m\u001b[0mj\u001b[0m\u001b[0;34m]\u001b[0m \u001b[0;32mfor\u001b[0m \u001b[0mj\u001b[0m \u001b[0;32min\u001b[0m \u001b[0mrange\u001b[0m\u001b[0;34m(\u001b[0m\u001b[0mnum_imgs\u001b[0m\u001b[0;34m)\u001b[0m\u001b[0;34m)\u001b[0m\u001b[0;34m)\u001b[0m\u001b[0;34m\u001b[0m\u001b[0;34m\u001b[0m\u001b[0m\n\u001b[1;32m     22\u001b[0m \u001b[0;34m\u001b[0m\u001b[0m\n",
      "\u001b[0;32m<ipython-input-11-605e73fdea2f>\u001b[0m in \u001b[0;36mimshow\u001b[0;34m(img)\u001b[0m\n\u001b[1;32m      2\u001b[0m \u001b[0;32mdef\u001b[0m \u001b[0mimshow\u001b[0m\u001b[0;34m(\u001b[0m\u001b[0mimg\u001b[0m\u001b[0;34m)\u001b[0m\u001b[0;34m:\u001b[0m\u001b[0;34m\u001b[0m\u001b[0;34m\u001b[0m\u001b[0m\n\u001b[1;32m      3\u001b[0m     \u001b[0mimg\u001b[0m \u001b[0;34m=\u001b[0m \u001b[0mimg\u001b[0m\u001b[0;34m/\u001b[0m\u001b[0;36m2\u001b[0m \u001b[0;34m+\u001b[0m \u001b[0;36m0.5\u001b[0m\u001b[0;34m\u001b[0m\u001b[0;34m\u001b[0m\u001b[0m\n\u001b[0;32m----> 4\u001b[0;31m     \u001b[0mnp_img\u001b[0m \u001b[0;34m=\u001b[0m \u001b[0mimg\u001b[0m\u001b[0;34m.\u001b[0m\u001b[0mnumpy\u001b[0m\u001b[0;34m(\u001b[0m\u001b[0;34m)\u001b[0m\u001b[0;34m\u001b[0m\u001b[0;34m\u001b[0m\u001b[0m\n\u001b[0m\u001b[1;32m      5\u001b[0m     \u001b[0mplt\u001b[0m\u001b[0;34m.\u001b[0m\u001b[0mimshow\u001b[0m\u001b[0;34m(\u001b[0m\u001b[0mnp\u001b[0m\u001b[0;34m.\u001b[0m\u001b[0mtranspose\u001b[0m\u001b[0;34m(\u001b[0m\u001b[0mnp_img\u001b[0m\u001b[0;34m,\u001b[0m \u001b[0;34m(\u001b[0m\u001b[0;36m1\u001b[0m\u001b[0;34m,\u001b[0m \u001b[0;36m2\u001b[0m\u001b[0;34m,\u001b[0m \u001b[0;36m0\u001b[0m\u001b[0;34m)\u001b[0m\u001b[0;34m)\u001b[0m\u001b[0;34m)\u001b[0m\u001b[0;34m\u001b[0m\u001b[0;34m\u001b[0m\u001b[0m\n\u001b[1;32m      6\u001b[0m     \u001b[0mplt\u001b[0m\u001b[0;34m.\u001b[0m\u001b[0mshow\u001b[0m\u001b[0;34m(\u001b[0m\u001b[0;34m)\u001b[0m\u001b[0;34m\u001b[0m\u001b[0;34m\u001b[0m\u001b[0m\n",
      "\u001b[0;31mTypeError\u001b[0m: can't convert cuda:0 device type tensor to numpy. Use Tensor.cpu() to copy the tensor to host memory first."
     ]
    }
   ],
   "source": [
    "classify(rand_batch_images, num_imgs=5)"
   ]
  },
  {
   "cell_type": "code",
   "execution_count": null,
   "metadata": {},
   "outputs": [],
   "source": []
  }
 ],
 "metadata": {
  "kernelspec": {
   "display_name": "Python 3",
   "language": "python",
   "name": "python3"
  },
  "language_info": {
   "codemirror_mode": {
    "name": "ipython",
    "version": 3
   },
   "file_extension": ".py",
   "mimetype": "text/x-python",
   "name": "python",
   "nbconvert_exporter": "python",
   "pygments_lexer": "ipython3",
   "version": "3.8.5"
  }
 },
 "nbformat": 4,
 "nbformat_minor": 4
}
